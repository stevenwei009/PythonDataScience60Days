{
 "cells": [
  {
   "cell_type": "code",
   "execution_count": 9,
   "metadata": {},
   "outputs": [
    {
     "name": "stdout",
     "output_type": "stream",
     "text": [
      "2021-02-19 15:21:42.391974\n",
      "2021-02-19\n"
     ]
    },
    {
     "name": "stderr",
     "output_type": "stream",
     "text": [
      "<ipython-input-9-23087192bfae>:6: FutureWarning: The pandas.datetime class is deprecated and will be removed from pandas in a future version. Import from datetime module instead.\n",
      "  now = pd.datetime.now()\n"
     ]
    }
   ],
   "source": [
    "import pandas as pd\n",
    "\n",
    "#Timestamp\n",
    "\n",
    "t1 = pd.Timestamp('2019-01-10')\n",
    "t2 = pd.Timestamp('2018-12-10')\n",
    "\n",
    "now = pd.datetime.now()\n",
    "print(now)\n",
    "print(now.strftime('%Y-%m-%d'))"
   ]
  },
  {
   "cell_type": "code",
   "execution_count": 12,
   "metadata": {},
   "outputs": [
    {
     "data": {
      "text/plain": [
       "datetime.datetime(2021, 2, 21, 15, 21, 42, 391974)"
      ]
     },
     "execution_count": 12,
     "metadata": {},
     "output_type": "execute_result"
    }
   ],
   "source": [
    "#Timedelta: datetime 相減\n",
    "\n",
    "\n",
    "dt = now + pd.Timedelta(days = 2)\n",
    "dt #今天再2天"
   ]
  },
  {
   "cell_type": "code",
   "execution_count": 20,
   "metadata": {},
   "outputs": [
    {
     "data": {
      "text/plain": [
       "Period('2019-01', 'M')"
      ]
     },
     "execution_count": 20,
     "metadata": {},
     "output_type": "execute_result"
    }
   ],
   "source": [
    "#Y, M, D, H(Hour)\n",
    "t1.to_period(freq = 'M')"
   ]
  },
  {
   "cell_type": "code",
   "execution_count": 25,
   "metadata": {},
   "outputs": [
    {
     "data": {
      "text/plain": [
       "2020Q1    1.0\n",
       "2020Q2    NaN\n",
       "2020Q3    NaN\n",
       "2020Q4    NaN\n",
       "2021Q1    2.0\n",
       "2021Q2    NaN\n",
       "2021Q3    NaN\n",
       "2021Q4    NaN\n",
       "Freq: Q-DEC, dtype: float64"
      ]
     },
     "execution_count": 25,
     "metadata": {},
     "output_type": "execute_result"
    }
   ],
   "source": [
    "#Year --> Quarter\n",
    "s = pd.Series([1,2], index = pd.period_range('2020-01-01', freq = 'Y', periods = 2))\n",
    "s.resample('Q').asfreq()\n"
   ]
  },
  {
   "cell_type": "code",
   "execution_count": 29,
   "metadata": {},
   "outputs": [
    {
     "data": {
      "text/plain": [
       "2022    1\n",
       "2023    2\n",
       "Freq: A-DEC, dtype: int64"
      ]
     },
     "execution_count": 29,
     "metadata": {},
     "output_type": "execute_result"
    }
   ],
   "source": [
    "s.shift(2, 'Y')"
   ]
  },
  {
   "cell_type": "markdown",
   "metadata": {},
   "source": [
    "題目：運下列時間序列資料做運算\n",
    "\n",
    "index = pd.date_range(\"1/1/2019\", periods=20, freq='D')\n",
    "\n",
    "series = pd.Series(range(20), index=index)\n",
    "\n",
    "Q1:將所有轉為周資料\n",
    "    \n",
    "Q2:將周資料的值取平均"
   ]
  },
  {
   "cell_type": "code",
   "execution_count": 30,
   "metadata": {},
   "outputs": [],
   "source": [
    "import pandas as pd\n",
    "\n",
    "index = pd.date_range(\"1/1/2019\", periods=20, freq='D')\n",
    "series = pd.Series(range(20), index=index)"
   ]
  },
  {
   "cell_type": "code",
   "execution_count": 32,
   "metadata": {},
   "outputs": [
    {
     "data": {
      "text/plain": [
       "2019-01-01     0\n",
       "2019-01-02     1\n",
       "2019-01-03     2\n",
       "2019-01-04     3\n",
       "2019-01-05     4\n",
       "2019-01-06     5\n",
       "2019-01-07     6\n",
       "2019-01-08     7\n",
       "2019-01-09     8\n",
       "2019-01-10     9\n",
       "2019-01-11    10\n",
       "2019-01-12    11\n",
       "2019-01-13    12\n",
       "2019-01-14    13\n",
       "2019-01-15    14\n",
       "2019-01-16    15\n",
       "2019-01-17    16\n",
       "2019-01-18    17\n",
       "2019-01-19    18\n",
       "2019-01-20    19\n",
       "Freq: D, dtype: int64"
      ]
     },
     "execution_count": 32,
     "metadata": {},
     "output_type": "execute_result"
    }
   ],
   "source": [
    "series"
   ]
  },
  {
   "cell_type": "code",
   "execution_count": 34,
   "metadata": {},
   "outputs": [
    {
     "data": {
      "text/plain": [
       "2018-12-31/2019-01-06     0\n",
       "2018-12-31/2019-01-06     1\n",
       "2018-12-31/2019-01-06     2\n",
       "2018-12-31/2019-01-06     3\n",
       "2018-12-31/2019-01-06     4\n",
       "2018-12-31/2019-01-06     5\n",
       "2019-01-07/2019-01-13     6\n",
       "2019-01-07/2019-01-13     7\n",
       "2019-01-07/2019-01-13     8\n",
       "2019-01-07/2019-01-13     9\n",
       "2019-01-07/2019-01-13    10\n",
       "2019-01-07/2019-01-13    11\n",
       "2019-01-07/2019-01-13    12\n",
       "2019-01-14/2019-01-20    13\n",
       "2019-01-14/2019-01-20    14\n",
       "2019-01-14/2019-01-20    15\n",
       "2019-01-14/2019-01-20    16\n",
       "2019-01-14/2019-01-20    17\n",
       "2019-01-14/2019-01-20    18\n",
       "2019-01-14/2019-01-20    19\n",
       "Freq: W-SUN, dtype: int64"
      ]
     },
     "execution_count": 34,
     "metadata": {},
     "output_type": "execute_result"
    }
   ],
   "source": [
    "#Q1\n",
    "Week_data = series.to_period(freq = 'W')\n",
    "Week_data"
   ]
  },
  {
   "cell_type": "code",
   "execution_count": 36,
   "metadata": {},
   "outputs": [
    {
     "data": {
      "text/plain": [
       "2018-12-31/2019-01-06     2.5\n",
       "2019-01-07/2019-01-13     9.0\n",
       "2019-01-14/2019-01-20    16.0\n",
       "Freq: W-SUN, dtype: float64"
      ]
     },
     "execution_count": 36,
     "metadata": {},
     "output_type": "execute_result"
    }
   ],
   "source": [
    "#Q2\n",
    "Week_data.resample('W').mean()"
   ]
  }
 ],
 "metadata": {
  "kernelspec": {
   "display_name": "Python 3",
   "language": "python",
   "name": "python3"
  },
  "language_info": {
   "codemirror_mode": {
    "name": "ipython",
    "version": 3
   },
   "file_extension": ".py",
   "mimetype": "text/x-python",
   "name": "python",
   "nbconvert_exporter": "python",
   "pygments_lexer": "ipython3",
   "version": "3.8.5"
  }
 },
 "nbformat": 4,
 "nbformat_minor": 4
}
